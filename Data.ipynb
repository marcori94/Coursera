{
 "cells": [
  {
   "cell_type": "markdown",
   "metadata": {},
   "source": [
    "**DATA**"
   ]
  },
  {
   "cell_type": "markdown",
   "metadata": {},
   "source": [
    "As already mentioned, this project wil use the Foursquare location data of the existing clymbing gyms in London to figure out the best borough to open a new gym, based on the proximity of the existing gyms and the size of potential customer base. This will be assesed from the following Wikipedia table, which lists all  Greater London's boroughs, their geographical coordinates and population: https://en.wikipedia.org/wiki/List_of_London_boroughs\n",
    "\n",
    "The best borough will be the one where no gym yet exists and whose five closest boroughs also lack a climbing gym. In case there will be more than one borough fitting this description, the most populous will be chosen, as it will in principle provide the largest customer base. This choice penalises boroughs at the outskirt of Greater London, as they tend to border with fewer boroughs than if they were in a more central position. We would anyway rather open our gym in a more central borough so the criterion chosen shoud still hold a valuable result."
   ]
  },
  {
   "cell_type": "code",
   "execution_count": null,
   "metadata": {},
   "outputs": [],
   "source": []
  }
 ],
 "metadata": {
  "kernelspec": {
   "display_name": "Python 3",
   "language": "python",
   "name": "python3"
  },
  "language_info": {
   "codemirror_mode": {
    "name": "ipython",
    "version": 3
   },
   "file_extension": ".py",
   "mimetype": "text/x-python",
   "name": "python",
   "nbconvert_exporter": "python",
   "pygments_lexer": "ipython3",
   "version": "3.7.6"
  }
 },
 "nbformat": 4,
 "nbformat_minor": 4
}
