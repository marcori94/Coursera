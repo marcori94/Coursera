{
 "cells": [
  {
   "cell_type": "markdown",
   "metadata": {},
   "source": [
    "**INTRODUCTION**"
   ]
  },
  {
   "cell_type": "markdown",
   "metadata": {},
   "source": [
    "Climbing is a rising activity, gaining popularity as the sport becomes more and more mainstream. Following its introduction in the next olympics in Tokyo, the demand for new climbing gyms is now higher than ever.\n",
    "This project aims at finding out the best borough in London to open a new climbing gym and could be of interest for anyone looking for a new business opportunity in a young and thriving market.\n",
    "\n",
    "The Foursquare location data of the existing clymbing gyms in London will be used to figure out the best borough to open a new gym, based on the proximity of the existing gyms and the size of potential customer base."
   ]
  },
  {
   "cell_type": "code",
   "execution_count": null,
   "metadata": {},
   "outputs": [],
   "source": []
  }
 ],
 "metadata": {
  "kernelspec": {
   "display_name": "Python 3",
   "language": "python",
   "name": "python3"
  },
  "language_info": {
   "codemirror_mode": {
    "name": "ipython",
    "version": 3
   },
   "file_extension": ".py",
   "mimetype": "text/x-python",
   "name": "python",
   "nbconvert_exporter": "python",
   "pygments_lexer": "ipython3",
   "version": "3.7.6"
  }
 },
 "nbformat": 4,
 "nbformat_minor": 4
}
